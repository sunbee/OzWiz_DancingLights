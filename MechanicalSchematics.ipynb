{
 "cells": [
  {
   "cell_type": "markdown",
   "metadata": {},
   "source": [
    "\n",
    "### What's in this section\n",
    "\n",
    "1. The best way to get familiar with the Pi is to think about it as a Personal Computer (PC)\n",
    "\n",
    "    1.1 Setting up the Pi for use as a Personal Computer\n",
    "\n",
    "    1.2 Ways in which the Pi is similar to a Personal Computer\n",
    "\n",
    "    1.3 Ways in which the Pi is different from a Personal Computer\n",
    "    \n",
    "\n",
    "2. Set up the Pi with Operating System (OS) and programming environment\n",
    "\n",
    "    2.1 The New Out Of Box Software (NOOBS)\n",
    "    \n",
    "    2.2 The Jupyter Notebook\n",
    "    \n",
    "    2.3 The Github\n",
    "    \n",
    "    \n",
    "..."
   ]
  },
  {
   "cell_type": "markdown",
   "metadata": {},
   "source": [
    "### 1. The best way to get familiar with the Pi is to think about it as a Personal Computer (PC)\n",
    "\n",
    "#### 1.0 Introduction\n",
    "<p><ul><li>The Raspberry Pi is a small, fully functional computer.</li>\n",
    "    <li>It is credit-card sized.</li>\n",
    "    <li>The design lends itself to learning and experimentation with programming.</li><ul></p>"
   ]
  },
  {
   "cell_type": "markdown",
   "metadata": {},
   "source": [
    "#### 1.1 Setting up the Pi for use as a Personal Computer\n",
    "\n",
    "<p>Exercise: Visually inspect the Pi. Can you identify the parts you need to set up the Pi for use as a Personal Computer?</p>\n",
    "\n",
    "<p>You would need to plug in the following essential peripherals.<ul>\n",
    "    <li>Monitor</li>\n",
    "    <li>Keyboard and mouse</li>\n",
    "    <li>Internet cable (or Wi-Fi)</li></ul>\n",
    "In addition, the Pi needs a power supply similar to a micor USB mobile phone charger. Optionally, you may want to attach a camera and a speaker or headset.</p>\n",
    "\n",
    "<p>Locate the part on the Pi corresponding to these peripherals and fill out the table. When you are done, your table should look like the expected answer.</p>"
   ]
  },
  {
   "cell_type": "markdown",
   "metadata": {},
   "source": [
    "%%HTML\n",
    "<iframe src=\"https://h5p.org/h5p/embed/571512\" width=\"1090\" height=\"805\" frameborder=\"0\" allowfullscreen=\"allowfullscreen\"></iframe><script src=\"https://h5p.org/sites/all/modules/h5p/library/js/h5p-resizer.js\" charset=\"UTF-8\"></script>"
   ]
  },
  {
   "cell_type": "code",
   "execution_count": null,
   "metadata": {},
   "outputs": [],
   "source": []
  }
 ],
 "metadata": {
  "kernelspec": {
   "display_name": "Python 3",
   "language": "python",
   "name": "python3"
  },
  "language_info": {
   "codemirror_mode": {
    "name": "ipython",
    "version": 3
   },
   "file_extension": ".py",
   "mimetype": "text/x-python",
   "name": "python",
   "nbconvert_exporter": "python",
   "pygments_lexer": "ipython3",
   "version": "3.7.2"
  }
 },
 "nbformat": 4,
 "nbformat_minor": 2
}
