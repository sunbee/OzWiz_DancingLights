{
 "cells": [
  {
   "cell_type": "markdown",
   "metadata": {},
   "source": [
    "# Light up the world, precious nerds!\n",
    "\n",
    "Why stumble around in the dark when you need to visit the bathroom at night?\n",
    "Make the Pi turn on lights upon detecting motion in the dark.\n",
    "The GPIO pins interface with sensors to give the Pi eyes and ears.\n",
    "Let us see how as we work through the schematics."
   ]
  },
  {
   "cell_type": "markdown",
   "metadata": {},
   "source": [
    "## Part A\n",
    "\n",
    "### Parts & Purpose\n",
    "\n",
    "Parts | Purpose | Tip\n",
    "-----|-----|-----\n",
    "Pi Relay HAT | Mate relays to Raspberry Pi | Use a three-channel module and check for flyback diode \n",
    "Base board | Provide a panel for electrical fixtures | Use MDF or plywood\n",
    "Light bulbs | Create lighting effects | Use 3 LED light bulbs \n",
    "Incandescent lampholder | Affix the light bulgs | Check for compatibility with light bulbs\n",
    "Power cord with plug | Connect the rig to mains | Improvise with computer power cable\n",
    "Electrical wire | Run wires between circuit components | Use speaker wire 14 gauge\n",
    "Electrical Terminal Connector (Strip) | Connect terminal ends of wire safely | Improvise with Wago nuts\n",
    "Accessories | Facilitate the job | Wire clips with adhesive tape, double-sided tape, nails\n",
    "\n",
    "### Equipment\n",
    "\n",
    "- Drill and drill bits\n",
    "- Jigsaw\n",
    "- Wire stripper\n",
    "- Screwdriver\n",
    "- Electrical tester\n",
    "\n",
    "### Assembly \n",
    "\n",
    "Mount the **Relay HAT** on the Pi. The HAT mates with the GPIO header on the Pi. It eliminates the need for hand-made connections between the relay bank and pins on the Pi's GPIO header.\n",
    "\n",
    "Fix the **incandescent lampholders** to the **base board** by drilling tap holes. The layout of the base board has the Pi (with HAT) at one end besides the light fixtures arranged in a row. Make a **power strip** to provide live connections on one side and neutral connections on the other. This can sit between the Pi and the light fixtures. \n",
    "\n",
    "Connect the **power cable** to the strip. For each lampholder, run a live wire from the power strip via relay. That is, the relay's NO terminals are spliced in the the live wire. Continuing for each lampholder, run a neutral wire to provide a return path from the lampholder to the power strip. The three lights are thus connected as loads in parallel between live and neutral.\n",
    "\n",
    "*Note: I improvised a power-strip out of **Wago 221 lever-nuts** strung together end-end, three on each side. I found the lever-style operation of these nuts lends itself to secure connections that can be redone without much hassle. More traditional option is screw terminals. These can be broken off into the desired size and are a good alternative.*\n",
    "\n",
    "Per US National Eletrical Code (NEC), the lampholder has a brass screw for the live terminal and a silver screw for the neutral terminal. Wire colors for live, neutral and ground are black, white and green respectively. Check with the applicable [code](https://www.electronicshub.org/electrical-wiring-color-codes/) for country or region. \n",
    "\n",
    "*Note: The computer power cable I used for this project had a black wire for live, white wire for neutral and green wire for earth. The speaker wire I used had gold sheathing for live and silver sheathing for neutral. The lampholders did not have an earth terminal.*\n",
    "\n",
    "When ready to commission, affix all three light bulbs. Power up the Pi and fixture. Connect to the Pi remotely via SSH. (I used Real VNC to connect to the Pi from a laptop computer.) Run the code in the Jupyter notebook and let the magic begin!\n",
    "\n",
    "*Note: There is a lot of wiring involved. Lots and lots of it. Go step-step, one light fixture at a time. Keep an electrical tester handy and check before handling any of the electrical fixutures.*"
   ]
  },
  {
   "cell_type": "markdown",
   "metadata": {},
   "source": [
    "### Demonstration\n",
    "\n",
    "Dancing Lights - Fixture | Live\n",
    "----- | -----\n",
    "<video controls src=\"images/ozWiz_lightsOnStand.mov\" width=350> | <video controls src=\"images/ozWiz_lightsOnBoard.mov\" width=350>"
   ]
  },
  {
   "cell_type": "markdown",
   "metadata": {},
   "source": [
    "*So far, we have seen how to automate a home appliance with the Pi. This scheme will work for lights, fans, insinkerator and other devices where the operation simply consists of switching on or off. What about appliances like the washer, dryer or dishwasher? These require setting various operating cycles for correct operation. We will see how timers and microcontrollers go hand-hand next.*\n",
    "\n",
    "## Part A - Extension\n",
    "\n",
    "Appliances like washer, dryer and dish-washer have multiple operating cycles that need to be orchestrated. Think about this as an electrical component or sub-system within the appliance that comes on or off at specific times during the end-end cycle. Thus, the operation of the appliance requires an on-board controller that tracks each sub-system in parallel and switches a sub-system on or off at programmed intervals from the start of the timer.\n",
    "\n",
    "Before microcontrollers became ubiquitous, this was achieved through an ingenious electromechanical system resembling a slow-turning rotisserie. As the shaft turned, cams operated switches by pressing against them to turn sub-systems (motor, heater, pump, solenoid valves) on or off in coordinated action. Take a look at the video that demonstrates the operation of a washing machine."
   ]
  },
  {
   "cell_type": "markdown",
   "metadata": {},
   "source": [
    "### APPENDIX\n",
    "\n",
    "Use a Wago 221 connector when wiring loads in parallel like so.\n",
    "\n",
    "Wago connector | Power Strip\n",
    "----- | -----\n",
    "![Wago 221 pigtail](images/ozWiz_WagoConnector.png) | ![Wago power strip](images/ozWiz_powerStrip.png)\n",
    "\n",
    "Keep this pattern in mind for electrical wiring. "
   ]
  },
  {
   "cell_type": "code",
   "execution_count": 1,
   "metadata": {},
   "outputs": [
    {
     "data": {
      "text/html": [
       "\n",
       "<iframe width=\"560\" height=\"315\" src=\"https://www.youtube.com/embed/tXFBkF0uaMU\" frameborder=\"0\" allow=\"accelerometer; encrypted-media; gyroscope; picture-in-picture\" allowfullscreen></iframe>\n"
      ],
      "text/plain": [
       "<IPython.core.display.HTML object>"
      ]
     },
     "metadata": {},
     "output_type": "display_data"
    }
   ],
   "source": [
    "%%HTML\n",
    "\n",
    "<iframe width=\"560\" height=\"315\" src=\"https://www.youtube.com/embed/tXFBkF0uaMU\" frameborder=\"0\" allow=\"accelerometer; encrypted-media; gyroscope; picture-in-picture\" allowfullscreen></iframe>"
   ]
  },
  {
   "cell_type": "markdown",
   "metadata": {},
   "source": [
    "Microcontrollers have long since replaced such electromechanical automatons. Timers are a critical part of how a single microcontroller can orchestrate multiple electrical sub-systems for the smooth running of an appliance. Use of a microcontroller also opens the door to programming the appliance to give the consumer greater control, such as, matching the cycle to the load.  "
   ]
  },
  {
   "cell_type": "markdown",
   "metadata": {},
   "source": [
    "## Part B\n",
    "\n",
    "### Parts & Purpose\n",
    "\n",
    "*Sub-assembly - Light Sensor*\n",
    "\n",
    "Part | Purpose | Tip\n",
    "----- | ----- | -----\n",
    "Breadboard | Lay out circuit elements | Use a mini breadboard for compact assembly. \n",
    "Potentionmeter | Tune sensor performance | Use 10k Ohms pot set to approx. 5k Ohms.\n",
    "Light Dependent Resistor (LDR) | Sense light conditions | Watch out for the non-linear response.\n",
    "MOSFET | Signal lighting conditions (high/low) | Use [RFP30N06LE](https://www.alldatasheet.com/datasheet-pdf/pdf/118243/FAIRCHILD/RFP30N06LE.html) for compatibility with Pi's 3.3 V logic levels.\n",
    "Accessories | Put circuit together | Jumper wires, empty DuPont shells, jumper pin headers\n",
    "\n",
    "*Sub-assembly - LED Lighting*\n",
    "\n",
    "Part | Purpose | Tip\n",
    "----- | ----- | -----\n",
    "Breadboard | Lay out circuit elements | Use a regular small-sized breadboard with side power-rails.\n",
    "MOSFET | Switch LED lights | Use [RFP30N06LE](https://www.alldatasheet.com/datasheet-pdf/pdf/118243/FAIRCHILD/RFP30N06LE.html) to provide ground for each color.\n",
    "LED lights | Provide lighting effects | Use single LEDs or a strip with own power supply.\n",
    "\n",
    "### Equipment\n",
    "\n",
    "Exacto knife\n",
    "\n",
    "### Assembly\n",
    "\n",
    "Assemble on breadboard as shown. Refer companion circuit diagrams in electrical schematics.\n",
    "\n",
    "*Sub-assembly - Light Sensor*\n",
    "\n",
    "Breadboard assembly | Video\n",
    "----- | -----\n",
    "![Light sensor](images/ozWiz_lightSensor.jpg) | <video controls src=\"images/ozWiz_lightSensor.mov\" width=350>\n",
    "\n",
    "Test by covering the light-dependent resistor (LDR) with the finger to simulate low light.\n",
    "\n",
    "<video controls src=\"images/ozWiz_senseLight.mov\" width=350>\n",
    "\n",
    "\n",
    "*Sub-assembly - LED Lighting*\n",
    "\n",
    "Breadboard assembly | Video\n",
    "----- | -----\n",
    "1 | 2\n",
    "\n"
   ]
  },
  {
   "cell_type": "markdown",
   "metadata": {},
   "source": [
    "Organizing cables to avoid creating a \"rat's nest\" can be a challenge. Use empty multi-pin DuPont shells to create wire harnesses. You can use pre-crimped wires. Or detach the plastic DuPont shells from jumper wire by pulling on the latch with an exacto knife to expose the crimped ends. Insert these ends into empty multi-pin DuPont shells of the right size to create a wire harness.\n",
    "\n",
    "Keep this pattern in mind. It will help keep wires neatly organized and manageable.\n"
   ]
  },
  {
   "cell_type": "code",
   "execution_count": null,
   "metadata": {},
   "outputs": [],
   "source": []
  }
 ],
 "metadata": {
  "kernelspec": {
   "display_name": "Python 3",
   "language": "python",
   "name": "python3"
  },
  "language_info": {
   "codemirror_mode": {
    "name": "ipython",
    "version": 3
   },
   "file_extension": ".py",
   "mimetype": "text/x-python",
   "name": "python",
   "nbconvert_exporter": "python",
   "pygments_lexer": "ipython3",
   "version": "3.7.2"
  }
 },
 "nbformat": 4,
 "nbformat_minor": 2
}
