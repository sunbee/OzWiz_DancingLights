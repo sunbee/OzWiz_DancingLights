{
 "cells": [
  {
   "cell_type": "markdown",
   "metadata": {},
   "source": [
    "# Light up the world, precious nerds!\n",
    "\n",
    "Why stumble around in the dark when you need to visit the bathroom at night?\n",
    "Make the Pi turn on lights upon detecting motion in the dark.\n",
    "The GPIO pins interface with sensors to give the Pi eyes and ears.\n",
    "Let us see how as we work through the schematics.\n"
   ]
  },
  {
   "cell_type": "markdown",
   "metadata": {},
   "source": [
    "## What is GPIO?\n",
    "\n",
    "A maker project is a system with components that exchange messages with the Pi. Sensors convey messages about external conditions like temperature, light and pressure. An actuator, such as motor, receives a message to energize. The GPIO pins provide the interface for exchanging messages. \n",
    "\n",
    "In the old days, a taxi-meter had a flag to indicate whether a taxi was vacant or not. Once the taxi had a fare, the operator manually rotated the flag to indicate the taxi was not available any more. A GPIO pin has a similar function as the taxi-meter flag. It conveys a simple dichotomous message - high or low. ![Flag](images/taxi_meter_flag.jpg)\n",
    "\n",
    "When a sensor conveys information to the Pi, it puts a \"high\" or \"low\" message on a GPIO pin. Thus a temperature sensor may indicate high or low temperature. Or a moisture sensor may indicate dry or wet soil. To recieve information, a GPIO pin must be in listening mode, i.e. \"input\".\n",
    "\n",
    "Similarly, the Pi can energize an actuator via GPIO pin by putting a \"high\" or \"low\" message on a GPIO pin connected to the device. To send information, a GPIO pin must be in transmitting mode, i.e. \"output\". A GPIO pin may directly supply power to a low-power device, like an LED light. More often, the device's power requirements dictate that it draw power from a source independent of the Pi. In that case, the GPIO pin operates a low-power switch that controls the device. In this way, a Pi can control an appliance around the home, like a gas furnace or a washing machine, which draws power from the mains supply."
   ]
  },
  {
   "cell_type": "markdown",
   "metadata": {},
   "source": [
    "## GPIO Output: Blink an LED\n",
    "\n",
    "A Pi speaks \"high\" or \"low\" in electrical voltages. A voltage of 3.3 V is \"high\". A voltage of 0 V is \"low\". The 3.3 V on the pin is sufficient to power a small LED light. Wire up the circuit like so. ![BlinkLED](images/ozWiz_dancingLights_e_blinkLED.png)"
   ]
  },
  {
   "cell_type": "markdown",
   "metadata": {},
   "source": [
    "The schematic shows a Raspberry Pi with a cartoon of the GPIO pins as they appear on the board. The pins are numbered 1 through 40 in the order of appearance. Some pins simple serve to provide an output voltage (3.3 V or 5 V) and a reference 0 V (Ground). A few GPIO pins haver additional specialized uses in communicating complex messages. Pins also have a GPIO ID number that the Maker can use when refering to pin numbers in code, being careful to specify upfront which numbering scheme is in use."
   ]
  },
  {
   "cell_type": "markdown",
   "metadata": {},
   "source": [
    "Future schematics will not show the Raspberry Pi. The following simplification is sufficient. ![simpleSchematic](images/ozWiz_dancingLights_e_blinkLED_simple.png)\n",
    "\n",
    "Note that:\n",
    "- The pin no. is the GPIO ID. \n",
    "- By convention, red wire is the \"live\" feed and black wire is the return path.\n",
    "- Other circuitry components are depicted with standard symbols where available or representative images."
   ]
  },
  {
   "cell_type": "code",
   "execution_count": 1,
   "metadata": {},
   "outputs": [
    {
     "data": {
      "text/html": [
       "<iframe width=\"560\" height=\"315\" src=\"https://www.youtube.com/embed/rMdXbVPZ60w\" frameborder=\"0\" allow=\"accelerometer; autoplay; encrypted-media; gyroscope; picture-in-picture\" allowfullscreen></iframe>\n"
      ],
      "text/plain": [
       "<IPython.core.display.HTML object>"
      ]
     },
     "metadata": {},
     "output_type": "display_data"
    }
   ],
   "source": [
    "%%html\n",
    "<iframe width=\"560\" height=\"315\" src=\"https://www.youtube.com/embed/rMdXbVPZ60w\" frameborder=\"0\" allow=\"accelerometer; autoplay; encrypted-media; gyroscope; picture-in-picture\" allowfullscreen></iframe>"
   ]
  },
  {
   "cell_type": "markdown",
   "metadata": {},
   "source": [
    "*A voltage of 3.3 V is enough to power on an LED. However, the power requirements of devices are often beyond what the Pi itself can supply. We need to add additional \"glue\" circuity to operate devices with independent power supply. In the next section we shall see a few different ways of doing that.* "
   ]
  },
  {
   "cell_type": "markdown",
   "metadata": {},
   "source": [
    "## Relay GPIO Signals to High-Voltage Devices\n",
    "\n",
    "So far, we have operated an LED from the Pi using a GPIO pin. The GPIO \"high\" of 3.3 V was sufficient to power the LED which requires very little power to run. In practical applications, the GPIO pin is rarely used to supply a device directly. A better approach is to use GPIO to operate a switch that controls a device's voltage feed. This approach is versatile, since it opens up the possibility of controlling devices with GPIO logic regardless of power requirement.\n",
    "\n",
    "This is where a relay comes in the picture. A relay is an electrically operated switch. The simplest design have an electro-mechanical design. The signal activates an electromagnet that closes contacts against opposing spring action. In the absence of signal, the contacts snap open. This type of relay is a popular choice among makers. They are also available as a \"HAT\" which mates with the Pi's bank of GPIO pins.\n",
    "\n",
    "Electromechanical Relay | Pi Hat with Relays\n",
    "- | -\n",
    "![Relay Module](images/relayModule.jpg) | ![piHat](images/raspberryPi_relayHat.jpg)\n",
    "\n",
    "With the addition of a relay, the circuit to operate our LED looks like so. The versatility of this approach is seen from the modification of this circuit to operate a lamp supplied from the mains. An electromechanical relay makes it possible to operate (i.e. switch on or off) any appliance with very little effort. Simply splice a relay into the power cable as shown and operate the relay with GPIO signal. For more than one device, use the Pi HAT.\n",
    "\n",
    "Relay to LED | Relay to Lamp\n",
    "- | - \n",
    "![Relay to LED](images/ozWiz_dancingLights_e_relayLED.png) | ![Relay to Lamp](images/ozWiz_dancingLights_e_relayMains.png)"
   ]
  },
  {
   "cell_type": "code",
   "execution_count": null,
   "metadata": {},
   "outputs": [],
   "source": []
  },
  {
   "cell_type": "markdown",
   "metadata": {},
   "source": [
    "References:\n",
    "1. Get the inside scoop on an electromechanical relay here: https://www.youtube.com/watch?v=MJz2DRZ1w9E\n",
    "2. Take the vibe up a notch with party lights using relays on a Pi HAT here: https://www.youtube.com/watch?v=bOGltcgiXiU"
   ]
  },
  {
   "cell_type": "code",
   "execution_count": null,
   "metadata": {},
   "outputs": [],
   "source": []
  }
 ],
 "metadata": {
  "kernelspec": {
   "display_name": "Python 3",
   "language": "python",
   "name": "python3"
  },
  "language_info": {
   "codemirror_mode": {
    "name": "ipython",
    "version": 3
   },
   "file_extension": ".py",
   "mimetype": "text/x-python",
   "name": "python",
   "nbconvert_exporter": "python",
   "pygments_lexer": "ipython3",
   "version": "3.7.2"
  }
 },
 "nbformat": 4,
 "nbformat_minor": 2
}
