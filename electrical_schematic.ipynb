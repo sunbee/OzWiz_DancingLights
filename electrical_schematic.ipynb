{
 "cells": [
  {
   "cell_type": "markdown",
   "metadata": {},
   "source": [
    "# Light up the world, precious nerds!\n",
    "\n",
    "Why stumble around in the dark when you need to visit the bathroom at night?\n",
    "Make the Pi turn on lights upon detecting motion in the dark.\n",
    "The GPIO pins hook up with the Pi with sensors to give eyes and ears.\n",
    "We shall see how as we work through the schematics.\n"
   ]
  },
  {
   "cell_type": "markdown",
   "metadata": {},
   "source": [
    "## What is GPIO?\n",
    "\n",
    "A Maker project is a system with components that exchange messages with the Pi. Sensors convey messages about external conditions like temperature, light and pressure. An actuators, like a motor, receives a message to energize. The GPIO pins provide the interface for messaging exchanges. \n",
    "\n",
    "In the old days, a taxi-meter had a flag to indicate whether a taxi was vacant or not. Once the taxi had a fare, the operator manually rotated the flag to indicate the taxi was not available any more. A GPIO pin has a similar function as the taxi-meter flag. It conveys a simple binary message - high or low. ![Flag](images/taxi_meter_flag.jpg)\n",
    "\n",
    "When a sensor conveys information to the Pi, it signals a \"High\" or \"Low\" on a GPIO pin. Thus a temperature sensor may indicate high or low temperature. Or a moisture sensor may indicate dry or wet soil. To recieve information, a GPIO pin must be in listening mode, i.e. \"Input\".\n",
    "\n",
    "The Pi can energize an actuator via GPIO pin conveying a \"High\" or \"Low\". For this, the GPIO pin must be in transmitting mode, i.e. \"Output\". A GPIO pin may directly power a low-power device, like an LED light. More often, the device's power requirements dictate that it possess own power supply. In that case, the GPIO signal the device to energize using own power source rather than supply the power for consumption. In this way, a Pi can control appliances around the home like a gas furnace or a washing machine, which require mains power."
   ]
  },
  {
   "cell_type": "markdown",
   "metadata": {},
   "source": [
    "## GPIO Output: Blink an LED\n",
    "\n",
    "A message relayed via GPIO takes the form of an electrical voltage. When the voltage is raised to 3.3 V, the pin signals a \"High\" as if flag were raised. When the voltage is lowered to 0 V, the pin signals a \"Low\" as if flag were lowered. The 3.3 V on the pin is sufficient to power a small LED light. Wire up the circuit like so. ![BlinkLED](images/ozWiz_dancingLights_e_blinkLED.png)"
   ]
  },
  {
   "cell_type": "markdown",
   "metadata": {},
   "source": [
    "The schematic shows a Raspberry Pi with a cartoon of the GPIO pins as they appear on the board. The pins are numbered 1 through 40 in the order of appearance. Some pins simple serve to provide an output voltage (3.3 V or 5 V) and a reference 0 V (Ground). A few GPIO pins haver additional specialized uses in communicating complex messages. Pins also have a GPIO ID number that the Maker can use when refering to pin numbers in code, being careful to specify upfront which numbering scheme is in use."
   ]
  },
  {
   "cell_type": "markdown",
   "metadata": {},
   "source": [
    "Future schematics will not show the Raspberry Pi. The following simplification is sufficient. ![simpleSchematic](images/ozWiz_dancingLights_e_blinkLED_simple.png)\n",
    "\n",
    "Note that:\n",
    "- The pin no. is the GPIO ID. \n",
    "- By convention, red wire is the \"live\" feed and black wire is the return path.\n",
    "- Other circuitry components are depicted with standard symbols where available or representative images."
   ]
  },
  {
   "cell_type": "code",
   "execution_count": 1,
   "metadata": {},
   "outputs": [
    {
     "data": {
      "text/html": [
       "<iframe width=\"560\" height=\"315\" src=\"https://www.youtube.com/embed/rMdXbVPZ60w\" frameborder=\"0\" allow=\"accelerometer; autoplay; encrypted-media; gyroscope; picture-in-picture\" allowfullscreen></iframe>"
      ],
      "text/plain": [
       "<IPython.core.display.HTML object>"
      ]
     },
     "metadata": {},
     "output_type": "display_data"
    }
   ],
   "source": [
    "%%html\n",
    "<iframe width=\"560\" height=\"315\" src=\"https://www.youtube.com/embed/rMdXbVPZ60w\" frameborder=\"0\" allow=\"accelerometer; autoplay; encrypted-media; gyroscope; picture-in-picture\" allowfullscreen></iframe>"
   ]
  },
  {
   "cell_type": "markdown",
   "metadata": {},
   "source": [
    "A voltage of 3.3 V is enough to power on an LED. However, the power requirements of devices are often beyond what the Pi itself can supply. We need to add additional circuity to relay signals from Pi GPIO to independently powered devices. In the next section we shall see a few different ways of doing that. "
   ]
  },
  {
   "cell_type": "markdown",
   "metadata": {},
   "source": [
    "## Relay GPIO Signals to High-Voltage Devices\n",
    "\n",
    "So far, we have powered on an LED with the 3.3 V on a GPIO pin. This approach is only suitable for devices that operate at 3.3 V and draw very little power. In practical applications, the GPIO pin rarely energizes a device directly and instead, it energizes a switch in the device's voltage feed. This approach is versatile since the device that the Pi operates (i.e. switches on or off) can draw the power it needs indpendently.\n",
    "\n",
    "The realization of this principle called a relay. The simplest ones have an electro-mechanical design. The signal activates an electromagnet that closes contacts against opposing spring action. In the absence of signal, the contacts snap open. This type of relay is a popular choice among makers. They are also available as a Pi \"Hat\" which mates with the Pi's bank of GPIO pins.\n",
    "\n",
    "Electromechanical Relay | Relays as a Pi Hat\n",
    "- | -\n",
    "![songleRelay](images/songleRelay.jpg) | ![piHat](images/raspberryPi_relayHat.jpg)\n",
    "\n",
    "Building a relay into our LED circuit, it looks like this."
   ]
  },
  {
   "cell_type": "markdown",
   "metadata": {},
   "source": [
    "References:\n",
    "1. Get the inside scoop on an electromechanical relay here: https://www.youtube.com/watch?v=MJz2DRZ1w9E"
   ]
  },
  {
   "cell_type": "code",
   "execution_count": null,
   "metadata": {},
   "outputs": [],
   "source": []
  }
 ],
 "metadata": {
  "kernelspec": {
   "display_name": "Python 3",
   "language": "python",
   "name": "python3"
  },
  "language_info": {
   "codemirror_mode": {
    "name": "ipython",
    "version": 3
   },
   "file_extension": ".py",
   "mimetype": "text/x-python",
   "name": "python",
   "nbconvert_exporter": "python",
   "pygments_lexer": "ipython3",
   "version": "3.5.3"
  }
 },
 "nbformat": 4,
 "nbformat_minor": 2
}
