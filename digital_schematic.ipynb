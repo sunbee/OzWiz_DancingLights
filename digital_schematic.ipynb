{
 "cells": [
  {
   "cell_type": "code",
   "execution_count": 1,
   "metadata": {},
   "outputs": [],
   "source": [
    "import RPi.GPIO as GPIO\n",
    "import time"
   ]
  },
  {
   "cell_type": "code",
   "execution_count": 4,
   "metadata": {},
   "outputs": [],
   "source": [
    "GPIO.setmode(GPIO.BCM)\n",
    "GPIO.setup(18, GPIO.OUT)\n",
    "GPIO.setup(23, GPIO.OUT)\n",
    "GPIO.setup(25, GPIO.OUT)"
   ]
  },
  {
   "cell_type": "code",
   "execution_count": 5,
   "metadata": {},
   "outputs": [],
   "source": [
    "for i in range(9):\n",
    "    GPIO.output(18, GPIO.HIGH)\n",
    "    time.sleep(0.5)\n",
    "    GPIO.output(18, GPIO.LOW)\n",
    "    time.sleep(0.5)"
   ]
  },
  {
   "cell_type": "code",
   "execution_count": 6,
   "metadata": {},
   "outputs": [],
   "source": [
    "def blinkMe(pin_no, for_n, interval=0.5):\n",
    "    GPIO.setmode(GPIO.BCM)\n",
    "    GPIO.setup(pin_no, GPIO.OUT)\n",
    "    for i in range(for_n):\n",
    "        GPIO.output(pin_no, GPIO.HIGH)\n",
    "        time.sleep(interval)\n",
    "        GPIO.output(pin_no, GPIO.LOW)\n",
    "        time.sleep(interval)\n",
    "    "
   ]
  },
  {
   "cell_type": "code",
   "execution_count": 9,
   "metadata": {},
   "outputs": [],
   "source": [
    "blinkMe(25, 7)"
   ]
  },
  {
   "cell_type": "code",
   "execution_count": 36,
   "metadata": {},
   "outputs": [
    {
     "name": "stdout",
     "output_type": "stream",
     "text": [
      "Set 18 to OUT\n",
      "Set 23 to OUT\n",
      "Set 25 to OUT\n"
     ]
    }
   ],
   "source": [
    "def truTruTrain(pin_nos, for_n):\n",
    "    for led in pin_nos:\n",
    "        GPIO.setmode(GPIO.BCM)\n",
    "        GPIO.setup(led, GPIO.OUT)\n",
    "        print(\"Set {} to OUT\".format(led))\n",
    "    for i in range(for_n):\n",
    "        [wink(pin) for pin in pin_nos]\n",
    "\n",
    "def wink(pin):\n",
    "    GPIO.output(pin, GPIO.LOW)\n",
    "    GPIO.output(pin, GPIO.HIGH)\n",
    "    time.sleep(0.05)\n",
    "    GPIO.output(pin, GPIO.LOW)\n",
    "        \n",
    "truTruTrain([18, 23, 25], 72)"
   ]
  },
  {
   "cell_type": "code",
   "execution_count": null,
   "metadata": {},
   "outputs": [],
   "source": []
  },
  {
   "cell_type": "code",
   "execution_count": null,
   "metadata": {},
   "outputs": [],
   "source": []
  }
 ],
 "metadata": {
  "kernelspec": {
   "display_name": "Python 3",
   "language": "python",
   "name": "python3"
  },
  "language_info": {
   "codemirror_mode": {
    "name": "ipython",
    "version": 3
   },
   "file_extension": ".py",
   "mimetype": "text/x-python",
   "name": "python",
   "nbconvert_exporter": "python",
   "pygments_lexer": "ipython3",
   "version": "3.5.3"
  }
 },
 "nbformat": 4,
 "nbformat_minor": 2
}
