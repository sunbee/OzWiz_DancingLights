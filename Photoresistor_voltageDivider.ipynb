{
 "cells": [
  {
   "cell_type": "code",
   "execution_count": 72,
   "metadata": {},
   "outputs": [],
   "source": [
    "import numpy as np\n",
    "import matplotlib.pyplot as plt"
   ]
  },
  {
   "cell_type": "markdown",
   "metadata": {},
   "source": [
    "# Optimize the voltage-divider for light-sensing with a photoresistor\n",
    "\n",
    "## The design problem\n",
    "\n",
    "The circuit has a 10k Ohms potentiometer (R1) and photoresistor (R2) in voltage-divider configuration with an input voltage (Vi) of 5V as shown. Ideally, R2 is zero in ambient light and infinity in darkness. In which case, the output voltage (Vo) is zero in ambient light with a short-circuit across photoresistor and 5V in darkness under open circuit across the photoresistor. In reality, the resistance on the photoresistor varies widely between a few kilo Ohms and a few thousand kilo Ohms. So R1 design needs to support voltage levels in light and dark conditions that are compatible with the Pi GPIO 3.3V.\n",
    "\n",
    "We will do this by generating response curves showing variation in Vo with photoresistor impedance for different choices of R1. We can then pick an R1 that has the optimum sensitivity for a observed minimum and maximum photoresistor impedance in ambient and dark lighting conditions. we want to choose a resistor that gives a target Vo of 3.0V in the dark and 0.5V in ambient light.\n",
    "\n",
    "## Response curve with 5 kilo Ohm resistor in series with photoresistor\n",
    "\n",
    "### Set up the x axis for photoresistor impedance\n",
    "\n",
    "The variable is photoresistor impedance (R2). Since it shows orders-of-magnitude variations in the operating range, we use a log-scale as follows. "
   ]
  },
  {
   "cell_type": "code",
   "execution_count": 67,
   "metadata": {},
   "outputs": [
    {
     "data": {
      "image/png": "[encoded data removed]",
      "text/plain": [
       "<Figure size 432x288 with 1 Axes>"
      ]
     },
     "metadata": {
      "needs_background": "light"
     },
     "output_type": "display_data"
    }
   ],
   "source": [
    "sample_size = 200\n",
    "x = np.logspace(0, 4, num=sample_size, base=10, endpoint=True)\n",
    "x\n",
    "plt.plot(x, np.zeros(sample_size), 'o')\n",
    "plt.ylim([-0.5, +0.5])\n",
    "plt.show()"
   ]
  },
  {
   "cell_type": "markdown",
   "metadata": {},
   "source": [
    "### Set up the y axis for output voltage\n",
    "\n",
    "The repsonse variable is Vo. It is calculated from circuit analysis of the voltage-divider. We have an input voltage (Vi) of 5V.\n",
    "\n",
    "Vo = R2/(R1+R2) * Vi\n",
    "\n",
    "Let's start with R1 of 5k Ohms. Later, we will look at the response curves with R1 at lower and higher settings in fixed steps of 1 K Ohms from 5 k Ohms. \n",
    "\n",
    "Plugging these values in the equation:\n",
    "\n",
    "Vo = R2/(5+R2) * 5\n",
    "\n",
    "Note that all resistance values are in kilo Ohms. We will use a function `responseVoltage()` to calculate."
   ]
  },
  {
   "cell_type": "code",
   "execution_count": 68,
   "metadata": {},
   "outputs": [],
   "source": [
    "def responseVoltage(r2, r1=5, Vi=5):\n",
    "    '''\n",
    "    Returns the output voltage of a voltage-divider in Volts.\n",
    "    inputs:\n",
    "    r2 - (numeric) impedance of photoresistor in kilo Ohms\n",
    "    r1 - (numeric) resistance in series with photoresistor in kilo Ohms, defaults to 5k Ohms.\n",
    "    Vi - (numeric) input voltage in Volts, defaults to 5V\n",
    "    '''\n",
    "    return (r2*Vi)/(r1+r2)\n",
    "\n",
    "assert responseVoltage(5)==2.5, \"It shoudl be 2.5V\"\n",
    "assert responseVoltage(0)==0.0, \"It should be 0V in ambient light\"\n",
    "assert responseVoltage(5000) > 4.5, \"It should be near 5V in dark\""
   ]
  },
  {
   "cell_type": "markdown",
   "metadata": {},
   "source": [
    "Vectorization in numpy comes in handy for iterative computation that generates an output array from an input array. We will compute values of the response variable like so."
   ]
  },
  {
   "cell_type": "code",
   "execution_count": 69,
   "metadata": {},
   "outputs": [],
   "source": [
    "y = np.vectorize(responseVoltage)(x)"
   ]
  },
  {
   "cell_type": "code",
   "execution_count": 76,
   "metadata": {},
   "outputs": [
    {
     "data": {
      "text/plain": [
       "<matplotlib.lines.Line2D at 0x17b0fb86128>"
      ]
     },
     "execution_count": 76,
     "metadata": {},
     "output_type": "execute_result"
    },
    {
     "data": {
      "image/png": "[encoded data removed]",
      "text/plain": [
       "<Figure size 432x288 with 1 Axes>"
      ]
     },
     "metadata": {
      "needs_background": "light"
     },
     "output_type": "display_data"
    }
   ],
   "source": [
    "fig = plt.figure()\n",
    "ax = plt.gca()\n",
    "ax.plot(x, y, 'o', c='blue', alpha=0.05, markeredgecolor=\"none\")\n",
    "ax.set_xscale('log')\n",
    "plt.axvline(x=3, c='orange')\n",
    "plt.axvline(x=800, c='orange')\n"
   ]
  },
  {
   "cell_type": "markdown",
   "metadata": {},
   "source": [
    "### Analysis\n",
    "\n",
    "The response curve shows that as the photoresistor impedance rises, the output voltage shows a steep rise followed by saturation. Note that the x axis is log-scale, so the linear regime reflects roughly an order of magnitude increase in photoresistor impedance for 1 unit increase in output voltage. \n",
    "\n",
    "The nature of this curve shows a design challenge. The min and max impedance corresponding to light and dark conditions are shown with vertical lines at 3k Ohms and 800k Ohms. At the lower end of the scale, the output voltage is already near 2V. The impedance of the photoresistor doesn't go below 1k Ohms even in bright daylight or the equivalent inside lighting conditions. Let's look at the possibilities with a few other values of R1."
   ]
  },
  {
   "cell_type": "markdown",
   "metadata": {},
   "source": [
    "## Response curves at different values of series resistor"
   ]
  },
  {
   "cell_type": "markdown",
   "metadata": {},
   "source": [
    "### Set up the x axis for photoresistor impedance\n",
    "\n",
    "We will retain the x axis from the previous section and compute a response curve for each candidate value of the series resistor, from 1k Ohms to 9k Ohms in steps of 1k Ohms."
   ]
  },
  {
   "cell_type": "code",
   "execution_count": 78,
   "metadata": {},
   "outputs": [],
   "source": [
    "x = np.logspace(0, 4, num=sample_size, base=10, endpoint=True)"
   ]
  },
  {
   "cell_type": "markdown",
   "metadata": {},
   "source": [
    "### Set up the y axis for output voltage\n",
    "\n",
    "We will use subscript with y to designate the resistance in kilo Ohms. Thus `y_5` is the response curve for the 5k Ohms resistor.  "
   ]
  },
  {
   "cell_type": "code",
   "execution_count": 84,
   "metadata": {},
   "outputs": [],
   "source": [
    "y_1 = np.vectorize(lambda x: responseVoltage(x, r1=1))(x)"
   ]
  },
  {
   "cell_type": "code",
   "execution_count": 85,
   "metadata": {},
   "outputs": [
    {
     "data": {
      "text/plain": [
       "<matplotlib.lines.Line2D at 0x17b10000630>"
      ]
     },
     "execution_count": 85,
     "metadata": {},
     "output_type": "execute_result"
    },
    {
     "data": {
      "image/png": "[encoded data removed]",
      "text/plain": [
       "<Figure size 432x288 with 1 Axes>"
      ]
     },
     "metadata": {
      "needs_background": "light"
     },
     "output_type": "display_data"
    }
   ],
   "source": [
    "fig = plt.figure()\n",
    "ax = plt.gca()\n",
    "ax.plot(x, y, 'o', c='blue', alpha=0.05, markeredgecolor=\"none\")\n",
    "ax.plot(x, y_1, 'o', c='blue', alpha=0.05, markeredgecolor=\"none\")\n",
    "ax.set_xscale('log')\n",
    "plt.axvline(x=3, c='orange')\n",
    "plt.axvline(x=800, c='orange')"
   ]
  },
  {
   "cell_type": "markdown",
   "metadata": {},
   "source": [
    "We can automate this with list comprehension."
   ]
  },
  {
   "cell_type": "code",
   "execution_count": 86,
   "metadata": {},
   "outputs": [],
   "source": [
    "y_ = [np.vectorize(lambda x: responseVoltage(x, r1=res))(x) for res in np.arange(1, 10)]"
   ]
  },
  {
   "cell_type": "code",
   "execution_count": 101,
   "metadata": {},
   "outputs": [
    {
     "data": {
      "text/plain": [
       "9"
      ]
     },
     "execution_count": 101,
     "metadata": {},
     "output_type": "execute_result"
    }
   ],
   "source": [
    "len(y_)"
   ]
  },
  {
   "cell_type": "markdown",
   "metadata": {},
   "source": [
    "### Plot the response curves for analysis"
   ]
  },
  {
   "cell_type": "code",
   "execution_count": 103,
   "metadata": {},
   "outputs": [
    {
     "data": {
      "text/plain": [
       "<matplotlib.lines.Line2D at 0x17b117c5048>"
      ]
     },
     "execution_count": 103,
     "metadata": {},
     "output_type": "execute_result"
    },
    {
     "data": {
      "image/png": "[encoded data removed]",
      "text/plain": [
       "<Figure size 432x288 with 1 Axes>"
      ]
     },
     "metadata": {
      "needs_background": "light"
     },
     "output_type": "display_data"
    }
   ],
   "source": [
    "fig = plt.figure()\n",
    "ax = plt.gca()\n",
    "for y_i in y_:\n",
    "    ax.plot(x, y_i, 'o', c='blue', alpha=0.05, markeredgecolor=\"none\")\n",
    "ax.set_xscale('log')\n",
    "plt.axvline(x=3, c='orange')\n",
    "plt.axvline(x=800, c='orange')"
   ]
  },
  {
   "cell_type": "markdown",
   "metadata": {},
   "source": [
    "#### Analysis\n",
    "\n",
    "The response curves show the limitations with a photoresistor in voltage-divider configuration. Even with a wide range of series resistor, the logic low remains above target levels."
   ]
  },
  {
   "cell_type": "markdown",
   "metadata": {},
   "source": [
    "## Conclusion\n",
    "\n",
    "Use of a photoresistor in voltage-divider configuration poses some limitations on representing logic low. This is because the impedance of the photoresistor in ambient light is in kilo ohms. Recommendations are as follows:\n",
    "1. Use photoresistors in combination as resistors in parallel. The drives down the net impedance to lower values.\n",
    "2. Use a suitable MOSFET with the output voltage as the trigger to obtain logic levels suitable for use with GPIO."
   ]
  },
  {
   "cell_type": "code",
   "execution_count": null,
   "metadata": {},
   "outputs": [],
   "source": []
  }
 ],
 "metadata": {
  "kernelspec": {
   "display_name": "Python 3",
   "language": "python",
   "name": "python3"
  },
  "language_info": {
   "codemirror_mode": {
    "name": "ipython",
    "version": 3
   },
   "file_extension": ".py",
   "mimetype": "text/x-python",
   "name": "python",
   "nbconvert_exporter": "python",
   "pygments_lexer": "ipython3",
   "version": "3.7.2"
  }
 },
 "nbformat": 4,
 "nbformat_minor": 2
}
