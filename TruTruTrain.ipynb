{
 "cells": [
  {
   "cell_type": "code",
   "execution_count": 1,
   "metadata": {},
   "outputs": [],
   "source": [
    "import RPi.GPIO as GPIO\n",
    "import time"
   ]
  },
  {
   "cell_type": "markdown",
   "metadata": {},
   "source": [
    "### Blink an LED\n",
    "\n",
    "Operate an LED with a GPIO pin.\n",
    "\n",
    "#### Hardware Set-Up\n",
    "\n",
    "Attach an LED to a GPIO pin in one of two ways. Note that the anode is the long leg and cathode is the short leg.\n",
    "\n",
    "**LED**:\n",
    "\n",
    "- Anode <> GPIO#5\n",
    "- Cathode <> GND (via 220 Ohm resistor)\n",
    "\n",
    "**LED**:\n",
    "\n",
    "- Anode <> 5V rail\n",
    "- Cathode <> MOSFET drain (D)\n",
    "\n",
    "**MOSFET (n-channel P30N06LE)**:\n",
    "\n",
    "- Gate (G) <> GPIO#5\n",
    "- Drain (D) <> LED cathode\n",
    "- Source (S) <> GND\n",
    "\n",
    "#### Software \n",
    "\n",
    "Use the Broadcom numbering system to address a GPIO pin by the number on the label. The object, `GPIO`, from the `RPi.GPIO` library, is a *digital twin* of the physical pins. It allows access to the pins from software. \n",
    "\n",
    "Use the `setmode()` method to specify which numbering scheme to use. "
   ]
  },
  {
   "cell_type": "code",
   "execution_count": 2,
   "metadata": {},
   "outputs": [],
   "source": [
    "GPIO.setmode(GPIO.BCM)"
   ]
  },
  {
   "cell_type": "markdown",
   "metadata": {},
   "source": [
    "With the numbering system selected, address the pin with GPIO \"high\" and \"low\" to switch it on and off respectively. Observe the use of the the `setup()` method to declare the direction of messaging (i.e. inbound or outbound). The `output()` method then puts the \"high\" or \"low\" message on the pin. \n",
    "\n",
    "The object, `time`, from the `time` library, is the virtual time-keeper. Use the `sleep()` method with specified interval (in seconds) to pause program execution, thus producing the blinking effect.\n",
    "\n",
    "Wrap the code in *for loop* to run for a specified number of turns and package the code in a function. Document the function's behavior by describing inputs (i.e. arguments), output (i.e. return value) and sample usage. We will document every function in this manner.\n",
    "\n",
    "Lastly, invoke the function."
   ]
  },
  {
   "cell_type": "code",
   "execution_count": 3,
   "metadata": {},
   "outputs": [],
   "source": [
    "def blinkMe(pin_no, for_n, interval=0.5):\n",
    "    \"\"\"\n",
    "    Blink an LED attached to a GPIO pin.\n",
    "    \n",
    "    Accepts args:\n",
    "    1. pin_no (int) - The GPIO pin ID (Broadcom notation)\n",
    "    2. for_n (int) - The number of blinks\n",
    "    3. interval (float) - The interval (in seconds) between on and off states of the LED\n",
    "    \n",
    "    Returns value: None\n",
    "    \n",
    "    Sample usage:\n",
    "    >>> blinkMe(5, 7, 0.5)\n",
    "    \"\"\"\n",
    "    GPIO.setmode(GPIO.BCM)\n",
    "    GPIO.setup(pin_no, GPIO.OUT)\n",
    "    for i in range(for_n):\n",
    "        GPIO.output(pin_no, GPIO.HIGH)\n",
    "        time.sleep(interval)\n",
    "        GPIO.output(pin_no, GPIO.LOW)\n",
    "        time.sleep(interval)"
   ]
  },
  {
   "cell_type": "code",
   "execution_count": 4,
   "metadata": {},
   "outputs": [],
   "source": [
    "blinkMe(5, 7)"
   ]
  },
  {
   "cell_type": "markdown",
   "metadata": {},
   "source": [
    "### Blink a Train of LEDs\n",
    "\n",
    "We will control three LEDs with a Pi as an extension of this approach. We have three LEDs, one for each of the colors Red, Green and Blue. We will blink the LEDs in a controlled sequence - Blue, Green and Red.\n",
    "\n",
    "#### Hardware Set-Up\n",
    "\n",
    "Attach each of three LED pins to a GPIO pin for control via MOSFET.\n",
    "\n",
    "**LED**:\n",
    "\n",
    "- Anode <> 5V rail via 220 ohm resistor\n",
    "- Cathode <> MOSFET drain (D)\n",
    "\n",
    "**MOSFET (n-channel P30N06LE)**:\n",
    "\n",
    "- Gate (G) <> GPIO#5 \n",
    "- Drain (D) <> LED cathode\n",
    "- Source (S) <> GND\n",
    "\n",
    "Repeat the scheme with pins GPIO#13 and GPIO#19.\n",
    "\n",
    "**Note** the hardware set-up is extensible to certain types of LED strips. A compatible lighting strip will present a cathode for each color - red, green and blue, and a common anode. The wiring pattern remains the same, except that the power rail is now supplied by the lighting strip's power source and indepdent of the Pi. \n",
    "\n",
    "**Note** that we can use the Pi HAT with relays. Mount the HAT on the Pi. It uses pins GPIO#21, GPIO#20, GPIO#26. This solution works very well for appliances supplied by AC mains. \n",
    "\n",
    "#### Software \n",
    "\n",
    "We will break down the task and attack the problem is small bites. First, we will write a function `wink()` to blink an LED once. This function will turn an LED on and leave it on for a specified duration. Next, we will write another function `trutrutrain()` to blink LEDs in sequential order. This function will blink LEDs one at a time in the specified sequence. \n",
    "\n",
    "This pattern of breaking a task into smaller tasks and combining them together is a common in software development. Writing code in this manner makes each parcel of code testable so problems can be isolated more easily. It produces code that is more **readable**, **reproducible** and **reusable**. \n",
    "\n",
    "Write the inner function like so."
   ]
  },
  {
   "cell_type": "code",
   "execution_count": 5,
   "metadata": {},
   "outputs": [],
   "source": [
    "def wink(pin_no, interval=0.1):\n",
    "    \"\"\"\n",
    "    Blink an LED once.\n",
    "    \n",
    "    Accepts args:\n",
    "    1. pin_no (int) - the address of the GPIO pin to which the LED is attached.\n",
    "    2. interval (float) - the time for which the LED is on.\n",
    "    \n",
    "    Returns value: None\n",
    "    \n",
    "    Sample usage:\n",
    "    >>> wink(19)\n",
    "    \"\"\"\n",
    "    GPIO.setmode(GPIO.BCM)\n",
    "    GPIO.setup(pin_no, GPIO.OUT)\n",
    "    GPIO.output(pin_no, GPIO.HIGH)\n",
    "    time.sleep(interval)\n",
    "    GPIO.output(pin_no, GPIO.LOW)"
   ]
  },
  {
   "cell_type": "markdown",
   "metadata": {},
   "source": [
    "Test the code with the LED on pin 19 (GPIO#19). The relay HAT commandeers pins 26, 20 and 21. Normal operation of the relay, say  with pin 21 (GPIO#21), will produce a clicking sound as the relay turns on and off."
   ]
  },
  {
   "cell_type": "code",
   "execution_count": 6,
   "metadata": {},
   "outputs": [],
   "source": [
    "wink(19)\n",
    "wink(21) # Relay hat uses 21, 20, 26"
   ]
  },
  {
   "cell_type": "markdown",
   "metadata": {},
   "source": [
    "We will take `wink()` for a test-drive with *list comprehension*.\n",
    "\n",
    "A common pattern in software is performing the same operation independently on each element in a list. Earlier, we have used *for loop* for iteration. The behavior can also be achieved in a more succinct and elegant fashion with *list comprehension*.\n",
    "\n",
    "This pattern has a (non-exclusive) vocabulary associated with it. The list of elements is an *iterable*. The operation performed on each element can be a pre-defined function, or it can be defined *in situ* as a *lambda*. To select which elements of a list are processed, *conditionals* can be included that test each element.\n",
    "\n",
    "Stash the pin numbers in the `train` iterable. Configure the pins as output using the `setup()` method. Then blink each LED in turn using the `wink()` function. Observe the use of a place-holder (here, `p`) to refer to each element as it is being processed.   "
   ]
  },
  {
   "cell_type": "code",
   "execution_count": 7,
   "metadata": {},
   "outputs": [
    {
     "data": {
      "text/plain": [
       "[None, None, None]"
      ]
     },
     "execution_count": 7,
     "metadata": {},
     "output_type": "execute_result"
    }
   ],
   "source": [
    "train = [5, 13, 19]\n",
    "[GPIO.setup(p, GPIO.OUT) for p in train]\n",
    "[wink(p) for p in train]"
   ]
  },
  {
   "cell_type": "markdown",
   "metadata": {},
   "source": [
    "Now, we will wrap the code in the `trutrutrain()` function and test it.  "
   ]
  },
  {
   "cell_type": "code",
   "execution_count": 11,
   "metadata": {},
   "outputs": [],
   "source": [
    "def trutrutrain(pins, times):\n",
    "    \"\"\"\n",
    "    Blink LEDs in a sequence.\n",
    "    \n",
    "    Accept args:\n",
    "    1. pins (list) - a list of pin numbers (int) \n",
    "    2. times (int) - the number of cycles \n",
    "    \n",
    "    Returns value: None\n",
    "    \n",
    "    Sample usage:\n",
    "    >>> trutrutrain([5, 13, 19], 30)\n",
    "    \"\"\"\n",
    "    [GPIO.setup(p, GPIO.OUT) for p in pins]\n",
    "    for i in range(times):\n",
    "        [wink(p, interval=0.3) for p in pins]"
   ]
  },
  {
   "cell_type": "code",
   "execution_count": 12,
   "metadata": {},
   "outputs": [],
   "source": [
    "trutrutrain([5, 13, 19], 30)"
   ]
  },
  {
   "cell_type": "code",
   "execution_count": 14,
   "metadata": {},
   "outputs": [],
   "source": [
    "relayHat= [21, 20, 26]\n",
    "trutrutrain(relayHat, 30)"
   ]
  },
  {
   "cell_type": "markdown",
   "metadata": {},
   "source": [
    "*So far, we have learned how to operate LED lights from a Pi. We can set lights on a timer to come on and off to a schedule using the `time` library. We want to trigger the lights in response to motion in dark, for which we to sense light and motion and then operate the LED lights in response. Next we will see how to sense illumination and trigger lighting in response.* "
   ]
  },
  {
   "cell_type": "markdown",
   "metadata": {},
   "source": [
    "### Sense Low-Light and Trigger LEDs \n",
    "\n",
    "The light-sensing circuit reports a logical \"low\" for low light and a logical \"high\" when sufficiently bright. Use a GPIO pin to sense light, powering the light-sensing circuit with 5.0 V from the Pi.\n",
    "\n",
    "Use a light filter over the sensing element to simulate low-light conditions. The code will print a series of numbers like \"1..1..\" assuming well-lit conditions at start and the series will change to \"0...0..\" when insufficient light reaches the sensor.\n",
    "\n",
    "Experiment with different lighting conditions, switching some lights on and off, using different light filters to block the light reaching the sensor. Or, in a dark room with the lights turned off, use the flashlight on the mobile phone. Run the code and observe the behavior."
   ]
  },
  {
   "cell_type": "code",
   "execution_count": 111,
   "metadata": {},
   "outputs": [
    {
     "name": "stdout",
     "output_type": "stream",
     "text": [
      "STARTED..\n",
      "1..1..0..1..1..0..0..0..0..FINISHED!\n"
     ]
    }
   ],
   "source": [
    "sense_light = 16\n",
    "GPIO.setup(sense_light, GPIO.IN)\n",
    "print(\"STARTED..\")\n",
    "for i in range(9):\n",
    "    print(GPIO.input(sense_light), end = \"..\")\n",
    "    time.sleep(0.5)\n",
    "print(\"FINISHED!\")"
   ]
  },
  {
   "cell_type": "markdown",
   "metadata": {},
   "source": [
    "Having observed the behavior of the light sensor, we will now operate LED lights to come on in darkness or when the light is poor. Use `trutrutrain()` in an *if statement* with a suitable pause. Use `time()` method from the `time` library to set a timer. The code runs in a *while loop*, reading the light sensor and operating the LED lights in low light until time runs out."
   ]
  },
  {
   "cell_type": "code",
   "execution_count": 112,
   "metadata": {},
   "outputs": [],
   "source": [
    "def operateDancingLights(test_duration=60, pause=0.5, on_sense=16, rgb=[]):\n",
    "    t0 = time.time()\n",
    "    GPIO.setup(on_sense, GPIO.IN)\n",
    "    while True:\n",
    "        time_elapsed = time.time() - t0\n",
    "        if time_elapsed > test_duration:\n",
    "            print(\"Completed test job and quit.\")\n",
    "            break\n",
    "        if GPIO.input(on_sense) == 0:\n",
    "            trutrutrain(rgb, 7)\n",
    "            time.sleep(pause)"
   ]
  },
  {
   "cell_type": "code",
   "execution_count": 114,
   "metadata": {},
   "outputs": [
    {
     "name": "stdout",
     "output_type": "stream",
     "text": [
      "Completed test job and quit.\n"
     ]
    }
   ],
   "source": [
    "operateDancingLights(rgb=[5, 13, 19])"
   ]
  },
  {
   "cell_type": "markdown",
   "metadata": {},
   "source": [
    "*We have learned how to trigger action based on sensory input and used a light detector to switch on LED lights. Next we will add the motion sensor and use the combined information about light and motion to operate the lights.*"
   ]
  },
  {
   "cell_type": "markdown",
   "metadata": {},
   "source": [
    "### Add Motion to Trigger\n",
    "\n",
    "Next, we trigger LEDs in response to motion. As with the light sensor, attach the motion sensor (passive infra red or PIR) to a GPIO input. The sensor requires 5.0 V that it draws from the Pi.\n",
    "\n",
    "This approach of powering a sensor from the Pi and reading the value it reports on a GPIO pin is a pattern that is ubiquitous in maker projects. Here, we only want to know whether it is light or dark and whether motion is present or not. We have wired sensors directly to the GPIO pins and this is sufficient.\n",
    "\n",
    "First, test the sensor by snapping fingers in front of it and observe its behavior. The PIR sensor requires 5.0 V to run and responds with 3.3 V signal. Explore the sensor with different hand gestures. With a line of sight to the sensor, try triggering a response from near and from afar. Notice that once triggered, the sensor stays on for a length of time."
   ]
  },
  {
   "cell_type": "code",
   "execution_count": 119,
   "metadata": {},
   "outputs": [
    {
     "name": "stdout",
     "output_type": "stream",
     "text": [
      "STARTED..\n",
      "0..0..1..1..1..1..1..1..0..0..1..1..1..0..0..FINISHED!\n"
     ]
    }
   ],
   "source": [
    "sense_motion = 12\n",
    "GPIO.setup(sense_motion, GPIO.IN)\n",
    "print(\"STARTED..\")\n",
    "for i in range(15):\n",
    "    print(GPIO.input(sense_motion), end=\"..\")\n",
    "    time.sleep(1.5)\n",
    "print(\"FINISHED!\")"
   ]
  },
  {
   "cell_type": "code",
   "execution_count": 120,
   "metadata": {},
   "outputs": [],
   "source": [
    "def operateDancingLighs2(test_duration=60, pause=0.5, on_light=16, on_motion=12, rgb=[], debug=False):\n",
    "    t0 = time.time()\n",
    "    GPIO.setup(on_light, GPIO.IN)\n",
    "    GPIO.setup(on_motion, GPIO.IN)\n",
    "    print(\"Started..\")\n",
    "    while True:\n",
    "        time_elapsed = time.time() - t0\n",
    "        sense_light = GPIO.input(on_light)\n",
    "        sense_motion = GPIO.input(on_motion)\n",
    "        if debug:\n",
    "            print(\"LM{}{}\".format(sense_light, sense_motion), end=\"..\")\n",
    "        if time_elapsed > test_duration:\n",
    "            print(\"Completed test job and quit.\")\n",
    "            break\n",
    "        if ((sense_light==0) and (sense_motion==1)):\n",
    "            trutrutrain(rgb, 7)\n",
    "            time.sleep(pause)\n",
    "    print(\"Finished!\")"
   ]
  },
  {
   "cell_type": "code",
   "execution_count": 124,
   "metadata": {},
   "outputs": [
    {
     "name": "stdout",
     "output_type": "stream",
     "text": [
      "Started..\n",
      "Completed test job and quit.\n",
      "Finished!\n"
     ]
    }
   ],
   "source": [
    "operateDancingLighs2(test_duration=150, rgb=[5, 13, 19])"
   ]
  },
  {
   "cell_type": "code",
   "execution_count": null,
   "metadata": {},
   "outputs": [],
   "source": []
  },
  {
   "cell_type": "code",
   "execution_count": null,
   "metadata": {},
   "outputs": [],
   "source": []
  }
 ],
 "metadata": {
  "kernelspec": {
   "display_name": "Python 3",
   "language": "python",
   "name": "python3"
  },
  "language_info": {
   "codemirror_mode": {
    "name": "ipython",
    "version": 3
   },
   "file_extension": ".py",
   "mimetype": "text/x-python",
   "name": "python",
   "nbconvert_exporter": "python",
   "pygments_lexer": "ipython3",
   "version": "3.7.2"
  }
 },
 "nbformat": 4,
 "nbformat_minor": 2
}
