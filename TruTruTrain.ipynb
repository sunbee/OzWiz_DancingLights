{
 "cells": [
  {
   "cell_type": "code",
   "execution_count": 1,
   "metadata": {},
   "outputs": [],
   "source": [
    "import RPi.GPIO as GPIO\n",
    "import time"
   ]
  },
  {
   "cell_type": "code",
   "execution_count": 2,
   "metadata": {},
   "outputs": [],
   "source": [
    "GPIO.setmode(GPIO.BCM)"
   ]
  },
  {
   "cell_type": "code",
   "execution_count": 3,
   "metadata": {},
   "outputs": [],
   "source": [
    "def blinkMe(pin_no, for_n, interval=0.5):\n",
    "    GPIO.setmode(GPIO.BCM)\n",
    "    GPIO.setup(pin_no, GPIO.OUT)\n",
    "    for i in range(for_n):\n",
    "        GPIO.output(pin_no, GPIO.HIGH)\n",
    "        time.sleep(interval)\n",
    "        GPIO.output(pin_no, GPIO.LOW)\n",
    "        time.sleep(interval)"
   ]
  },
  {
   "cell_type": "code",
   "execution_count": 4,
   "metadata": {},
   "outputs": [],
   "source": [
    "blinkMe(5, 7)"
   ]
  },
  {
   "cell_type": "code",
   "execution_count": 5,
   "metadata": {},
   "outputs": [],
   "source": [
    "def wink(pin_no, interval=0.1):\n",
    "    GPIO.setmode(GPIO.BCM)\n",
    "    GPIO.setup(pin_no, GPIO.OUT)\n",
    "    GPIO.output(pin_no, GPIO.HIGH)\n",
    "    time.sleep(interval)\n",
    "    GPIO.output(pin_no, GPIO.LOW)"
   ]
  },
  {
   "cell_type": "code",
   "execution_count": 6,
   "metadata": {},
   "outputs": [],
   "source": [
    "wink(19)\n",
    "wink(21) # Relay hat uses 21, 20, 26"
   ]
  },
  {
   "cell_type": "code",
   "execution_count": 7,
   "metadata": {},
   "outputs": [
    {
     "data": {
      "text/plain": [
       "[None, None, None]"
      ]
     },
     "execution_count": 7,
     "metadata": {},
     "output_type": "execute_result"
    }
   ],
   "source": [
    "train = [5, 13, 19]\n",
    "[GPIO.setup(p, GPIO.OUT) for p in train]\n",
    "[wink(p) for p in train]"
   ]
  },
  {
   "cell_type": "code",
   "execution_count": 8,
   "metadata": {},
   "outputs": [],
   "source": [
    "def trutrutrain(pins, times):\n",
    "    [GPIO.setup(p, GPIO.OUT) for p in pins]\n",
    "    for i in range(times):\n",
    "        [wink(p) for p in pins]"
   ]
  },
  {
   "cell_type": "code",
   "execution_count": 9,
   "metadata": {},
   "outputs": [],
   "source": [
    "trutrutrain([5, 13, 19], 30)"
   ]
  },
  {
   "cell_type": "code",
   "execution_count": 10,
   "metadata": {},
   "outputs": [],
   "source": [
    "relayHat= [21, 20, 26]\n",
    "trutrutrain(relayHat, 3)"
   ]
  },
  {
   "cell_type": "code",
   "execution_count": 8,
   "metadata": {},
   "outputs": [
    {
     "name": "stdout",
     "output_type": "stream",
     "text": [
      "1\n",
      "1\n",
      "0\n",
      "0\n",
      "1\n",
      "1\n",
      "1\n",
      "0\n",
      "0\n"
     ]
    }
   ],
   "source": [
    "GPIO.setup(xx, GPIO.IN)\n",
    "for i in range(9):\n",
    "    print(GPIO.input(13))\n",
    "    time.sleep(0.5)"
   ]
  },
  {
   "cell_type": "code",
   "execution_count": 10,
   "metadata": {},
   "outputs": [],
   "source": []
  },
  {
   "cell_type": "code",
   "execution_count": null,
   "metadata": {},
   "outputs": [],
   "source": []
  }
 ],
 "metadata": {
  "kernelspec": {
   "display_name": "Python 3",
   "language": "python",
   "name": "python3"
  },
  "language_info": {
   "codemirror_mode": {
    "name": "ipython",
    "version": 3
   },
   "file_extension": ".py",
   "mimetype": "text/x-python",
   "name": "python",
   "nbconvert_exporter": "python",
   "pygments_lexer": "ipython3",
   "version": "3.7.3"
  }
 },
 "nbformat": 4,
 "nbformat_minor": 2
}
